{
  "nbformat": 4,
  "nbformat_minor": 0,
  "metadata": {
    "colab": {
      "provenance": [],
      "authorship_tag": "ABX9TyPYQ5KMjdwOaklVKZAaYE4M",
      "include_colab_link": true
    },
    "kernelspec": {
      "name": "python3",
      "display_name": "Python 3"
    },
    "language_info": {
      "name": "python"
    }
  },
  "cells": [
    {
      "cell_type": "markdown",
      "metadata": {
        "id": "view-in-github",
        "colab_type": "text"
      },
      "source": [
        "<a href=\"https://colab.research.google.com/github/sethgis/12/blob/main/LAB7.ipynb\" target=\"_parent\"><img src=\"https://colab.research.google.com/assets/colab-badge.svg\" alt=\"Open In Colab\"/></a>"
      ]
    },
    {
      "cell_type": "code",
      "source": [
        "import pandas as pd\n",
        "import numpy as np\n",
        "import matplotlib.pyplot as plt\n",
        "import seaborn as sns\n",
        "import geopandas as gpd\n",
        "import plotly.express as px\n",
        "# import pandas_profiling\n"
      ],
      "metadata": {
        "id": "C2m5R_ge2jox"
      },
      "execution_count": 2,
      "outputs": []
    },
    {
      "cell_type": "code",
      "execution_count": null,
      "metadata": {
        "id": "rHYhLx-h2dFP"
      },
      "outputs": [],
      "source": [
        "# Write a program which reads an integer from the user and decides whether that integer is even or odd.\n"
      ]
    },
    {
      "cell_type": "code",
      "source": [
        "# Read an integer from the user\n",
        "user_input = input(\"Enter an integer: \")\n",
        "\n",
        "# Convert the user input to an integer\n",
        "try:\n",
        "    num = int(user_input)\n",
        "except ValueError:\n",
        "    print(\"Invalid input. Please enter a valid integer.\")\n",
        "    exit()\n",
        "\n",
        "# Check if the number is even or odd\n",
        "if num % 2 == 0:\n",
        "    print(f\"{num} is an even number.\")\n",
        "else:\n",
        "    print(f\"{num} is an odd number.\")\n"
      ],
      "metadata": {
        "colab": {
          "base_uri": "https://localhost:8080/",
          "height": 0
        },
        "id": "biEsrjur2kfJ",
        "outputId": "eba6299f-81dc-47cd-e222-d32fde444a1f"
      },
      "execution_count": 4,
      "outputs": [
        {
          "output_type": "stream",
          "name": "stdout",
          "text": [
            "Enter an integer: 4\n",
            "4 is an even number.\n"
          ]
        }
      ]
    },
    {
      "cell_type": "code",
      "source": [
        "# Request the user to input their age\n",
        "user_age = input(\"Enter your age: \")\n",
        "\n",
        "# Convert the user input to an integer\n",
        "try:\n",
        "    age = int(user_age)\n",
        "except ValueError:\n",
        "    print(\"Invalid input. Please enter a valid age.\")\n",
        "    exit()\n",
        "\n",
        "# Check if the user is eligible to vote\n",
        "voting_age = 18\n",
        "if age >= voting_age:\n",
        "    print(\"You are eligible to vote. Exercise your right to vote!\")\n",
        "else:\n",
        "    print(\"Sorry, you are not eligible to vote yet. Wait until you turn 18.\")\n"
      ],
      "metadata": {
        "colab": {
          "base_uri": "https://localhost:8080/",
          "height": 0
        },
        "id": "BMlrVu4m44WU",
        "outputId": "cc562dc7-884c-4b65-d1d5-612a52db4573"
      },
      "execution_count": 6,
      "outputs": [
        {
          "output_type": "stream",
          "name": "stdout",
          "text": [
            "Enter your age: 12\n",
            "Sorry, you are not eligible to vote yet. Wait until you turn 18.\n"
          ]
        }
      ]
    },
    {
      "cell_type": "code",
      "source": [
        "# Input marks for each subject\n",
        "physics = float(input(\"Enter Physics marks: \"))\n",
        "chemistry = float(input(\"Enter Chemistry marks: \"))\n",
        "biology = float(input(\"Enter Biology marks: \"))\n",
        "mathematics = float(input(\"Enter Mathematics marks: \"))\n",
        "computer = float(input(\"Enter Computer marks: \"))\n",
        "\n",
        "# Calculate average percentage\n",
        "total_marks = physics + chemistry + biology + mathematics + computer\n",
        "total_subjects = 5\n",
        "average_percentage = (total_marks / (total_subjects * 100)) * 100\n",
        "\n",
        "# Determine the grade based on percentage\n",
        "if average_percentage >= 90:\n",
        "    grade = 'A'\n",
        "elif average_percentage >= 80:\n",
        "    grade = 'B'\n",
        "elif average_percentage >= 70:\n",
        "    grade = 'C'\n",
        "elif average_percentage >= 60:\n",
        "    grade = 'D'\n",
        "elif average_percentage >= 40:\n",
        "    grade = 'E'\n",
        "else:\n",
        "    grade = 'F'\n",
        "\n",
        "# Display the results\n",
        "print(f\"Average Percentage: {average_percentage:.2f}%\")\n",
        "print(f\"Grade: {grade}\")\n"
      ],
      "metadata": {
        "colab": {
          "base_uri": "https://localhost:8080/",
          "height": 0
        },
        "id": "98M9c9rv5Jz4",
        "outputId": "f25619db-e41e-4a19-c624-bf50caf1ca00"
      },
      "execution_count": 7,
      "outputs": [
        {
          "output_type": "stream",
          "name": "stdout",
          "text": [
            "Enter Physics marks: 50\n",
            "Enter Chemistry marks: 80\n",
            "Enter Biology marks: 67\n",
            "Enter Mathematics marks: 56.8\n",
            "Enter Computer marks: 90\n",
            "Average Percentage: 68.76%\n",
            "Grade: D\n"
          ]
        }
      ]
    },
    {
      "cell_type": "code",
      "source": [
        "# Basic insurance charge\n",
        "basic_charge = 20000\n",
        "\n",
        "# Get driver's age and number of accidents\n",
        "age = int(input(\"Enter driver's age: \"))\n",
        "accidents = int(input(\"Enter the number of accidents: \"))\n",
        "\n",
        "# Surcharge for drivers under 25\n",
        "if age < 25:\n",
        "    basic_charge += 8000\n",
        "\n",
        "# Initialize surcharge with a default value\n",
        "surcharge = 0\n",
        "\n",
        "# Additional surcharge based on the number of accidents\n",
        "if accidents == 0:\n",
        "    surcharge = 0\n",
        "elif accidents == 1:\n",
        "    surcharge = 4250\n",
        "elif accidents == 2:\n",
        "    surcharge = 10600\n",
        "elif accidents == 3:\n",
        "    surcharge = 19100\n",
        "else:\n",
        "    basic_charge = 0;\n",
        "    total_premium = 0;\n",
        "    surcharge = 0;\n",
        "    print(\"Not eligible for insurance\")\n",
        "    exit()\n",
        "\n",
        "    # Calculate total insurance premium\n",
        "total_premium = basic_charge + surcharge\n",
        "\n",
        "# Display the results\n",
        "print(\"\\nInsurance Premium Breakdown:\")\n",
        "print(f\"Basic Insurance Charge: Ksh {basic_charge}\")\n",
        "print(f\"Surcharge: Ksh {surcharge:.2f}\")\n",
        "print(f\"Total Insurance Premium: Ksh {total_premium}\")\n"
      ],
      "metadata": {
        "colab": {
          "base_uri": "https://localhost:8080/",
          "height": 0
        },
        "id": "-BIovNz48x-9",
        "outputId": "ad249cb6-be2c-4029-b122-9348399f26da"
      },
      "execution_count": 1,
      "outputs": [
        {
          "output_type": "stream",
          "name": "stdout",
          "text": [
            "Enter driver's age: 45\n",
            "Enter the number of accidents: 3\n",
            "\n",
            "Insurance Premium Breakdown:\n",
            "Basic Insurance Charge: Ksh 20000\n",
            "Surcharge: Ksh 19100.00\n",
            "Total Insurance Premium: Ksh 39100\n"
          ]
        }
      ]
    }
  ]
}